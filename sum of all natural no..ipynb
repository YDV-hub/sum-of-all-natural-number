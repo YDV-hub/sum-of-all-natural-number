{
 "cells": [
  {
   "cell_type": "code",
   "execution_count": 4,
   "id": "e8d60acd-1a68-4830-bf96-30e24d738689",
   "metadata": {},
   "outputs": [
    {
     "name": "stdin",
     "output_type": "stream",
     "text": [
      "enter a starting number :  1\n",
      "enter a ending number :  50\n",
      "enter a updation number :  1\n"
     ]
    },
    {
     "name": "stdout",
     "output_type": "stream",
     "text": [
      "1275 "
     ]
    }
   ],
   "source": [
    "s=int(input(\"enter a starting number : \"))\n",
    "e=int(input(\"enter a ending number : \"))\n",
    "updation=int(input(\"enter a updation number : \"))\n",
    "sum=0\n",
    "for i in range (s,e+1,updation):\n",
    "               sum+=i\n",
    "print(sum,end=\" \")"
   ]
  },
  {
   "cell_type": "code",
   "execution_count": null,
   "id": "c732a600-b7ed-484f-af18-819b3fef462f",
   "metadata": {},
   "outputs": [],
   "source": []
  }
 ],
 "metadata": {
  "kernelspec": {
   "display_name": "Python 3 (ipykernel)",
   "language": "python",
   "name": "python3"
  },
  "language_info": {
   "codemirror_mode": {
    "name": "ipython",
    "version": 3
   },
   "file_extension": ".py",
   "mimetype": "text/x-python",
   "name": "python",
   "nbconvert_exporter": "python",
   "pygments_lexer": "ipython3",
   "version": "3.12.4"
  }
 },
 "nbformat": 4,
 "nbformat_minor": 5
}
